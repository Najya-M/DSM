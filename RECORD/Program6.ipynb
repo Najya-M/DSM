{
 "cells": [
  {
   "cell_type": "code",
   "execution_count": null,
   "id": "6f6b3c95",
   "metadata": {},
   "outputs": [],
   "source": [
    "AIM:- NAIVE BAYES ALGORITHM \n",
    "    Question 1:- Program to implement Naïve Bayes algorithm using any standard \n",
    "    dataset available in the public domain and find the accuracy of the \n",
    "    algorithm."
   ]
  },
  {
   "cell_type": "code",
   "execution_count": 3,
   "id": "03e8af0a",
   "metadata": {},
   "outputs": [
    {
     "name": "stdout",
     "output_type": "stream",
     "text": [
      "Accuracy: 100.00%\n",
      "New sample shape: (1, 4)\n",
      "Model expects: 4 features\n",
      "Prediction: [0]\n",
      "Predicted class: setosa\n"
     ]
    }
   ],
   "source": [
    "# AIM: Naïve Bayes Algorithm on Iris Dataset\n",
    "\n",
    "import numpy as np \n",
    "from sklearn import datasets \n",
    "from sklearn.model_selection import train_test_split \n",
    "from sklearn.naive_bayes import GaussianNB \n",
    "from sklearn.metrics import accuracy_score \n",
    "\n",
    "# Load the Iris dataset \n",
    "iris = datasets.load_iris() \n",
    "X = iris.data \n",
    "y = iris.target \n",
    "\n",
    "# Split the data into training and testing sets (80% training, 20% testing) \n",
    "X_train, X_test, y_train, y_test = train_test_split(X, y, test_size=0.2, random_state=42) \n",
    "\n",
    "# Create a Gaussian Naive Bayes classifier \n",
    "nb_classifier = GaussianNB() \n",
    "\n",
    "# Train the classifier using the training data \n",
    "nb_classifier.fit(X_train, y_train) \n",
    "\n",
    "# Make predictions on the testing data \n",
    "y_pred = nb_classifier.predict(X_test) \n",
    "\n",
    "# Calculate the accuracy of the classifier \n",
    "accuracy = accuracy_score(y_test, y_pred) \n",
    "print(f\"Accuracy: {accuracy * 100:.2f}%\") \n",
    "\n",
    "# Predict on a new sample \n",
    "new_sample = np.array([[5.1, 3.5, 1.4, 0.2]])  # Example flower\n",
    "\n",
    "print(\"New sample shape:\", new_sample.shape)\n",
    "print(\"Model expects:\", nb_classifier.n_features_in_, \"features\")\n",
    "\n",
    "prediction = nb_classifier.predict(new_sample)\n",
    "print(\"Prediction:\", prediction)\n",
    "print(\"Predicted class:\", iris.target_names[prediction[0]])\n"
   ]
  },
  {
   "cell_type": "code",
   "execution_count": null,
   "id": "793ea420",
   "metadata": {},
   "outputs": [],
   "source": [
    "CODE 2 :- Program to implement Naïve Bayes algorithm with confusion matrix \n",
    "            using any standard dataset available in the public domain and find the \n",
    "            accuracy of the algorithm. "
   ]
  },
  {
   "cell_type": "code",
   "execution_count": 4,
   "id": "ced5d3c5",
   "metadata": {},
   "outputs": [
    {
     "name": "stdout",
     "output_type": "stream",
     "text": [
      "Confusion Matrix:\n",
      " [[10  0  0]\n",
      " [ 0  9  0]\n",
      " [ 0  0 11]]\n",
      "Classification Report:\n",
      "               precision    recall  f1-score   support\n",
      "\n",
      "      setosa       1.00      1.00      1.00        10\n",
      "  versicolor       1.00      1.00      1.00         9\n",
      "   virginica       1.00      1.00      1.00        11\n",
      "\n",
      "    accuracy                           1.00        30\n",
      "   macro avg       1.00      1.00      1.00        30\n",
      "weighted avg       1.00      1.00      1.00        30\n",
      "\n",
      "Accuracy: 100.00%\n"
     ]
    }
   ],
   "source": [
    "# AIM: Naïve Bayes with Confusion Matrix and Accuracy using Iris Dataset\n",
    "\n",
    "import numpy as np\n",
    "from sklearn import datasets\n",
    "from sklearn.model_selection import train_test_split\n",
    "from sklearn.naive_bayes import GaussianNB\n",
    "from sklearn.metrics import accuracy_score, confusion_matrix, classification_report\n",
    "\n",
    "# Load the Iris dataset\n",
    "iris = datasets.load_iris()\n",
    "X = iris.data\n",
    "y = iris.target\n",
    "\n",
    "# Split the data into training and testing sets (80% train, 20% test)\n",
    "X_train, X_test, y_train, y_test = train_test_split(X, y, test_size=0.2, random_state=42)\n",
    "\n",
    "# Create a Gaussian Naive Bayes classifier\n",
    "nb_classifier = GaussianNB()\n",
    "\n",
    "# Train the classifier\n",
    "nb_classifier.fit(X_train, y_train)\n",
    "\n",
    "# Make predictions\n",
    "y_pred = nb_classifier.predict(X_test)\n",
    "\n",
    "# Confusion Matrix\n",
    "conf_matrix = confusion_matrix(y_test, y_pred)\n",
    "print(\"Confusion Matrix:\\n\", conf_matrix)\n",
    "\n",
    "# Classification Report\n",
    "class_report = classification_report(y_test, y_pred, target_names=iris.target_names)\n",
    "print(\"Classification Report:\\n\", class_report)\n",
    "\n",
    "# Accuracy Score\n",
    "accuracy = accuracy_score(y_test, y_pred)\n",
    "print(f\"Accuracy: {accuracy * 100:.2f}%\")\n"
   ]
  },
  {
   "cell_type": "code",
   "execution_count": null,
   "id": "d629010e",
   "metadata": {},
   "outputs": [],
   "source": []
  }
 ],
 "metadata": {
  "kernelspec": {
   "display_name": "Python 3 (ipykernel)",
   "language": "python",
   "name": "python3"
  },
  "language_info": {
   "codemirror_mode": {
    "name": "ipython",
    "version": 3
   },
   "file_extension": ".py",
   "mimetype": "text/x-python",
   "name": "python",
   "nbconvert_exporter": "python",
   "pygments_lexer": "ipython3",
   "version": "3.9.7"
  }
 },
 "nbformat": 4,
 "nbformat_minor": 5
}
