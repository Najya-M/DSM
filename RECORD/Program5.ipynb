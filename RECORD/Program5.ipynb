{
 "cells": [
  {
   "cell_type": "code",
   "execution_count": null,
   "id": "1233cf3d",
   "metadata": {},
   "outputs": [],
   "source": [
    "PROGRAM 5 \n",
    "    AIM:-K-NN CLASSIFICATION \n",
    "    Question 1:- Program to implement k-NN classification using any standard dataset  \n",
    "    available in the public domain and find the accuracy of the algorithm.  "
   ]
  },
  {
   "cell_type": "code",
   "execution_count": 6,
   "id": "73b0d266",
   "metadata": {},
   "outputs": [
    {
     "name": "stdout",
     "output_type": "stream",
     "text": [
      "Accuracy of k-NN with k=3:1.00\n",
      "New sample shape: (1, 4)\n",
      "Model expects: 4 features\n",
      "Prediction: [0]\n",
      "Predicted class: setosa\n"
     ]
    }
   ],
   "source": [
    "import numpy as np  \n",
    "from sklearn.datasets import load_iris \n",
    "from sklearn.model_selection import train_test_split  \n",
    "from sklearn.neighbors import KNeighborsClassifier \n",
    "from sklearn.metrics import accuracy_score \n",
    "# df=pd.read_csv ('data.csv') \n",
    "data = load_iris() \n",
    "X = data.data \n",
    "y= data.target \n",
    "X_train,X_test,y_train,y_test = train_test_split(X,y,test_size=0.2,random_state=42) \n",
    "k=3  \n",
    "knn = KNeighborsClassifier(n_neighbors=k) \n",
    "knn.fit(X_train,y_train) \n",
    "y_pred = knn.predict(X_test) \n",
    "accuracy = accuracy_score(y_test,y_pred) \n",
    "print(f'Accuracy of k-NN with k={k}:{accuracy:.2f}')\n",
    "new_sample = np.array([[5.1, 3.5, 1.4, 0.2]])  \n",
    "\n",
  "print(\"New sample shape:\", new_sample.shape)\n",
 "print(\"Model expects:\", knn.n_features_in_, \"features\")\n",
    "\n",
    "prediction = knn.predict(new_sample)\n",
    "print(\"Prediction:\", prediction)\n",
    "print(\"Predicted class:\", data.target_names[prediction[0]])\n",
    "\n"
   ]
  }
 ],
 "metadata": {
  "kernelspec": {
   "display_name": "Python 3 (ipykernel)",
   "language": "python",
   "name": "python3"
  },
  "language_info": {
   "codemirror_mode": {
    "name": "ipython",
    "version": 3
   },
   "file_extension": ".py",
   "mimetype": "text/x-python",
   "name": "python",
   "nbconvert_exporter": "python",
   "pygments_lexer": "ipython3",
   "version": "3.9.7"
  }
 },
 "nbformat": 4,
 "nbformat_minor": 5
}
